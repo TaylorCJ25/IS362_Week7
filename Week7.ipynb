{
 "cells": [
  {
   "cell_type": "markdown",
   "source": [
    "## IS 362 Week 7\n",
    "### The movies chosen for this week's assignment are 'The Batman, 'Encanto', 'Uncharted', 'Spider-Man: No Way Home', 'The Adam Project', and 'Texas Chainsaw Massacre'.\n",
    "### First we will be finding the average rating for each user and the average rating for each movie.\n"
   ],
   "metadata": {
    "collapsed": false
   }
  },
  {
   "cell_type": "code",
   "execution_count": 21,
   "outputs": [],
   "source": [
    "import pandas as pd"
   ],
   "metadata": {
    "collapsed": false,
    "pycharm": {
     "name": "#%%\n"
    }
   }
  },
  {
   "cell_type": "code",
   "execution_count": 22,
   "outputs": [
    {
     "data": {
      "text/plain": "              The Batman  Turning Red  Uncharted  Spider-Man: No Way Home  \\\nParticipants                                                                \nTaylor                 4            4          5                        5   \nCierra                 3            4          5                        5   \nJustin                 5            2          5                        5   \nOdessa                 3            4          2                        5   \nSha-Sha                4            4          4                        5   \nShane                  5            2          5                        5   \n\n              The Adam Project  Texas Chainsaw Massacre  \nParticipants                                             \nTaylor                     2.0                      NaN  \nCierra                     2.0                      NaN  \nJustin                     NaN                      4.0  \nOdessa                     3.0                      2.0  \nSha-Sha                    NaN                      NaN  \nShane                      NaN                      4.0  ",
      "text/html": "<div>\n<style scoped>\n    .dataframe tbody tr th:only-of-type {\n        vertical-align: middle;\n    }\n\n    .dataframe tbody tr th {\n        vertical-align: top;\n    }\n\n    .dataframe thead th {\n        text-align: right;\n    }\n</style>\n<table border=\"1\" class=\"dataframe\">\n  <thead>\n    <tr style=\"text-align: right;\">\n      <th></th>\n      <th>The Batman</th>\n      <th>Turning Red</th>\n      <th>Uncharted</th>\n      <th>Spider-Man: No Way Home</th>\n      <th>The Adam Project</th>\n      <th>Texas Chainsaw Massacre</th>\n    </tr>\n    <tr>\n      <th>Participants</th>\n      <th></th>\n      <th></th>\n      <th></th>\n      <th></th>\n      <th></th>\n      <th></th>\n    </tr>\n  </thead>\n  <tbody>\n    <tr>\n      <th>Taylor</th>\n      <td>4</td>\n      <td>4</td>\n      <td>5</td>\n      <td>5</td>\n      <td>2.0</td>\n      <td>NaN</td>\n    </tr>\n    <tr>\n      <th>Cierra</th>\n      <td>3</td>\n      <td>4</td>\n      <td>5</td>\n      <td>5</td>\n      <td>2.0</td>\n      <td>NaN</td>\n    </tr>\n    <tr>\n      <th>Justin</th>\n      <td>5</td>\n      <td>2</td>\n      <td>5</td>\n      <td>5</td>\n      <td>NaN</td>\n      <td>4.0</td>\n    </tr>\n    <tr>\n      <th>Odessa</th>\n      <td>3</td>\n      <td>4</td>\n      <td>2</td>\n      <td>5</td>\n      <td>3.0</td>\n      <td>2.0</td>\n    </tr>\n    <tr>\n      <th>Sha-Sha</th>\n      <td>4</td>\n      <td>4</td>\n      <td>4</td>\n      <td>5</td>\n      <td>NaN</td>\n      <td>NaN</td>\n    </tr>\n    <tr>\n      <th>Shane</th>\n      <td>5</td>\n      <td>2</td>\n      <td>5</td>\n      <td>5</td>\n      <td>NaN</td>\n      <td>4.0</td>\n    </tr>\n  </tbody>\n</table>\n</div>"
     },
     "execution_count": 22,
     "metadata": {},
     "output_type": "execute_result"
    }
   ],
   "source": [
    "# First Load the data to be examined\n",
    "\n",
    "df = pd.read_csv(r\"C:\\Users\\HP\\OneDrive\\Desktop\\Movie_Judgers_Club.csv.csv\", index_col=\"Participants\")\n",
    "df"
   ],
   "metadata": {
    "collapsed": false,
    "pycharm": {
     "name": "#%%\n"
    }
   }
  },
  {
   "cell_type": "code",
   "execution_count": 23,
   "outputs": [
    {
     "data": {
      "text/plain": "Participants\nOdessa     3.166667\nCierra     3.800000\nTaylor     4.000000\nJustin     4.200000\nShane      4.200000\nSha-Sha    4.250000\ndtype: float64"
     },
     "execution_count": 23,
     "metadata": {},
     "output_type": "execute_result"
    }
   ],
   "source": [
    "# Now we will find the average ratings for each user.\n",
    "# This will showcase the values from least to greatest.\n",
    "df.T.mean().sort_values()\n",
    "\n",
    "#Using df.T focuses on the index_col data.\n"
   ],
   "metadata": {
    "collapsed": false,
    "pycharm": {
     "name": "#%%\n"
    }
   }
  },
  {
   "cell_type": "code",
   "execution_count": 24,
   "outputs": [
    {
     "data": {
      "text/plain": "The Adam Project           2.333333\nTurning Red                3.333333\nTexas Chainsaw Massacre    3.333333\nThe Batman                 4.000000\nUncharted                  4.333333\nSpider-Man: No Way Home    5.000000\ndtype: float64"
     },
     "execution_count": 24,
     "metadata": {},
     "output_type": "execute_result"
    }
   ],
   "source": [
    "# Find the average of Movie ratings\n",
    "df.mean().sort_values()"
   ],
   "metadata": {
    "collapsed": false,
    "pycharm": {
     "name": "#%%\n"
    }
   }
  },
  {
   "cell_type": "code",
   "execution_count": 25,
   "outputs": [
    {
     "data": {
      "text/plain": "              The Batman  Turning Red  Uncharted  Spider-Man: No Way Home  \\\nParticipants                                                                \nTaylor               0.5          1.0   1.000000                      NaN   \nCierra               0.0          1.0   1.000000                      NaN   \nJustin               1.0          0.0   1.000000                      NaN   \nOdessa               0.0          1.0   0.000000                      NaN   \nSha-Sha              0.5          1.0   0.666667                      NaN   \nShane                1.0          0.0   1.000000                      NaN   \n\n              The Adam Project  Texas Chainsaw Massacre  \nParticipants                                             \nTaylor                     0.0                      NaN  \nCierra                     0.0                      NaN  \nJustin                     NaN                      1.0  \nOdessa                     1.0                      0.0  \nSha-Sha                    NaN                      NaN  \nShane                      NaN                      1.0  ",
      "text/html": "<div>\n<style scoped>\n    .dataframe tbody tr th:only-of-type {\n        vertical-align: middle;\n    }\n\n    .dataframe tbody tr th {\n        vertical-align: top;\n    }\n\n    .dataframe thead th {\n        text-align: right;\n    }\n</style>\n<table border=\"1\" class=\"dataframe\">\n  <thead>\n    <tr style=\"text-align: right;\">\n      <th></th>\n      <th>The Batman</th>\n      <th>Turning Red</th>\n      <th>Uncharted</th>\n      <th>Spider-Man: No Way Home</th>\n      <th>The Adam Project</th>\n      <th>Texas Chainsaw Massacre</th>\n    </tr>\n    <tr>\n      <th>Participants</th>\n      <th></th>\n      <th></th>\n      <th></th>\n      <th></th>\n      <th></th>\n      <th></th>\n    </tr>\n  </thead>\n  <tbody>\n    <tr>\n      <th>Taylor</th>\n      <td>0.5</td>\n      <td>1.0</td>\n      <td>1.000000</td>\n      <td>NaN</td>\n      <td>0.0</td>\n      <td>NaN</td>\n    </tr>\n    <tr>\n      <th>Cierra</th>\n      <td>0.0</td>\n      <td>1.0</td>\n      <td>1.000000</td>\n      <td>NaN</td>\n      <td>0.0</td>\n      <td>NaN</td>\n    </tr>\n    <tr>\n      <th>Justin</th>\n      <td>1.0</td>\n      <td>0.0</td>\n      <td>1.000000</td>\n      <td>NaN</td>\n      <td>NaN</td>\n      <td>1.0</td>\n    </tr>\n    <tr>\n      <th>Odessa</th>\n      <td>0.0</td>\n      <td>1.0</td>\n      <td>0.000000</td>\n      <td>NaN</td>\n      <td>1.0</td>\n      <td>0.0</td>\n    </tr>\n    <tr>\n      <th>Sha-Sha</th>\n      <td>0.5</td>\n      <td>1.0</td>\n      <td>0.666667</td>\n      <td>NaN</td>\n      <td>NaN</td>\n      <td>NaN</td>\n    </tr>\n    <tr>\n      <th>Shane</th>\n      <td>1.0</td>\n      <td>0.0</td>\n      <td>1.000000</td>\n      <td>NaN</td>\n      <td>NaN</td>\n      <td>1.0</td>\n    </tr>\n  </tbody>\n</table>\n</div>"
     },
     "execution_count": 25,
     "metadata": {},
     "output_type": "execute_result"
    }
   ],
   "source": [
    "# For this portion the the website, https://datagy.io/pandas-normalize-column/, was beneficial. It will also be used later on for standardized ratings.\n",
    "# This formula will show the normalized data for the  entire dataframe.\n",
    "df_norm = (df - df.min()) / (df.max() - df.min())\n",
    "\n",
    "df_norm"
   ],
   "metadata": {
    "collapsed": false,
    "pycharm": {
     "name": "#%%\n"
    }
   }
  },
  {
   "cell_type": "code",
   "execution_count": 26,
   "outputs": [
    {
     "data": {
      "text/plain": "Participants\nOdessa     0.400000\nCierra     0.500000\nTaylor     0.625000\nSha-Sha    0.722222\nJustin     0.750000\nShane      0.750000\ndtype: float64"
     },
     "execution_count": 26,
     "metadata": {},
     "output_type": "execute_result"
    }
   ],
   "source": [
    "# Participants Normalized average.\n",
    "df_norm.T.mean().sort_values()"
   ],
   "metadata": {
    "collapsed": false,
    "pycharm": {
     "name": "#%%\n"
    }
   }
  },
  {
   "cell_type": "code",
   "execution_count": 27,
   "outputs": [
    {
     "data": {
      "text/plain": "The Adam Project           0.333333\nThe Batman                 0.500000\nTurning Red                0.666667\nTexas Chainsaw Massacre    0.666667\nUncharted                  0.777778\nSpider-Man: No Way Home         NaN\ndtype: float64"
     },
     "execution_count": 27,
     "metadata": {},
     "output_type": "execute_result"
    }
   ],
   "source": [
    "# Movies Normalized average.\n",
    "df_norm.mean().sort_values()"
   ],
   "metadata": {
    "collapsed": false,
    "pycharm": {
     "name": "#%%\n"
    }
   }
  },
  {
   "cell_type": "markdown",
   "source": [
    "## Conclusion\n",
    "### Advantages of Normalized data: Normalization changes data to a common scale to be more comparable.\n",
    "### Disadvantages of Normalized data: The scale of data is drastically changed which may affect numeric weight.\n",
    "### In normalizing my own data the order of outcomes were not changed, however, the normalized data gave a smaller scale for me to more easily compare the difference in ratings."
   ],
   "metadata": {
    "collapsed": false
   }
  },
  {
   "cell_type": "markdown",
   "source": [
    "## Extra Credit Attempt\n",
    "####  Create another new pandas dataframe, with standardized ratings for each user. Once again, show the average ratings for each user and each movie."
   ],
   "metadata": {
    "collapsed": false
   }
  },
  {
   "cell_type": "code",
   "execution_count": 28,
   "outputs": [
    {
     "data": {
      "text/plain": "              The Batman  Turning Red  Uncharted  Spider-Man: No Way Home  \\\nParticipants                                                                \nTaylor          0.000000     0.645497   0.550482                      NaN   \nCierra         -1.118034     0.645497   0.550482                      NaN   \nJustin          1.118034    -1.290994   0.550482                      NaN   \nOdessa         -1.118034     0.645497  -1.926687                      NaN   \nSha-Sha         0.000000     0.645497  -0.275241                      NaN   \nShane           1.118034    -1.290994   0.550482                      NaN   \n\n              The Adam Project  Texas Chainsaw Massacre  \nParticipants                                             \nTaylor               -0.577350                      NaN  \nCierra               -0.577350                      NaN  \nJustin                     NaN                 0.577350  \nOdessa                1.154701                -1.154701  \nSha-Sha                    NaN                      NaN  \nShane                      NaN                 0.577350  ",
      "text/html": "<div>\n<style scoped>\n    .dataframe tbody tr th:only-of-type {\n        vertical-align: middle;\n    }\n\n    .dataframe tbody tr th {\n        vertical-align: top;\n    }\n\n    .dataframe thead th {\n        text-align: right;\n    }\n</style>\n<table border=\"1\" class=\"dataframe\">\n  <thead>\n    <tr style=\"text-align: right;\">\n      <th></th>\n      <th>The Batman</th>\n      <th>Turning Red</th>\n      <th>Uncharted</th>\n      <th>Spider-Man: No Way Home</th>\n      <th>The Adam Project</th>\n      <th>Texas Chainsaw Massacre</th>\n    </tr>\n    <tr>\n      <th>Participants</th>\n      <th></th>\n      <th></th>\n      <th></th>\n      <th></th>\n      <th></th>\n      <th></th>\n    </tr>\n  </thead>\n  <tbody>\n    <tr>\n      <th>Taylor</th>\n      <td>0.000000</td>\n      <td>0.645497</td>\n      <td>0.550482</td>\n      <td>NaN</td>\n      <td>-0.577350</td>\n      <td>NaN</td>\n    </tr>\n    <tr>\n      <th>Cierra</th>\n      <td>-1.118034</td>\n      <td>0.645497</td>\n      <td>0.550482</td>\n      <td>NaN</td>\n      <td>-0.577350</td>\n      <td>NaN</td>\n    </tr>\n    <tr>\n      <th>Justin</th>\n      <td>1.118034</td>\n      <td>-1.290994</td>\n      <td>0.550482</td>\n      <td>NaN</td>\n      <td>NaN</td>\n      <td>0.577350</td>\n    </tr>\n    <tr>\n      <th>Odessa</th>\n      <td>-1.118034</td>\n      <td>0.645497</td>\n      <td>-1.926687</td>\n      <td>NaN</td>\n      <td>1.154701</td>\n      <td>-1.154701</td>\n    </tr>\n    <tr>\n      <th>Sha-Sha</th>\n      <td>0.000000</td>\n      <td>0.645497</td>\n      <td>-0.275241</td>\n      <td>NaN</td>\n      <td>NaN</td>\n      <td>NaN</td>\n    </tr>\n    <tr>\n      <th>Shane</th>\n      <td>1.118034</td>\n      <td>-1.290994</td>\n      <td>0.550482</td>\n      <td>NaN</td>\n      <td>NaN</td>\n      <td>0.577350</td>\n    </tr>\n  </tbody>\n</table>\n</div>"
     },
     "execution_count": 28,
     "metadata": {},
     "output_type": "execute_result"
    }
   ],
   "source": [
    "# Standardized data, z-score scaling, used standard deviation.\n",
    "# Because of this z-score scaling falls between -3 to 3.\n",
    "# We will continue to use Pandas mean and std functions here.\n",
    "df_stand = (df - df.mean()) / (df.std())\n",
    "\n",
    "df_stand"
   ],
   "metadata": {
    "collapsed": false,
    "pycharm": {
     "name": "#%%\n"
    }
   }
  },
  {
   "cell_type": "code",
   "execution_count": 29,
   "outputs": [
    {
     "data": {
      "text/plain": "Participants\nOdessa    -0.479845\nCierra    -0.124851\nSha-Sha    0.123419\nTaylor     0.154657\nJustin     0.238718\nShane      0.238718\ndtype: float64"
     },
     "execution_count": 29,
     "metadata": {},
     "output_type": "execute_result"
    }
   ],
   "source": [
    "# Participants standardized data set\n",
    "df_stand.T.mean().sort_values()"
   ],
   "metadata": {
    "collapsed": false,
    "pycharm": {
     "name": "#%%\n"
    }
   }
  },
  {
   "cell_type": "code",
   "execution_count": 30,
   "outputs": [
    {
     "data": {
      "text/plain": "The Adam Project          -2.960595e-16\nTurning Red               -1.480297e-16\nTexas Chainsaw Massacre   -1.480297e-16\nThe Batman                 0.000000e+00\nUncharted                  2.405483e-16\nSpider-Man: No Way Home             NaN\ndtype: float64"
     },
     "execution_count": 30,
     "metadata": {},
     "output_type": "execute_result"
    }
   ],
   "source": [
    "# Movies standardized data set\n",
    "df_stand.mean().sort_values()\n",
    "\n",
    "\n"
   ],
   "metadata": {
    "collapsed": false,
    "pycharm": {
     "name": "#%%\n"
    }
   }
  }
 ],
 "metadata": {
  "kernelspec": {
   "display_name": "Python 3",
   "language": "python",
   "name": "python3"
  },
  "language_info": {
   "codemirror_mode": {
    "name": "ipython",
    "version": 2
   },
   "file_extension": ".py",
   "mimetype": "text/x-python",
   "name": "python",
   "nbconvert_exporter": "python",
   "pygments_lexer": "ipython2",
   "version": "2.7.6"
  }
 },
 "nbformat": 4,
 "nbformat_minor": 0
}